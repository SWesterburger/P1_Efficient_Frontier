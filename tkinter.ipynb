{
 "cells": [
  {
   "cell_type": "code",
   "execution_count": 1,
   "metadata": {},
   "outputs": [],
   "source": [
    "import tkinter"
   ]
  },
  {
   "cell_type": "code",
   "execution_count": 22,
   "metadata": {},
   "outputs": [],
   "source": [
    "# Create an Entry Box "
   ]
  },
  {
   "cell_type": "code",
   "execution_count": null,
   "metadata": {},
   "outputs": [],
   "source": [
    "# Create Canvas (where you place items such as entry buttons, charts, and more)\n",
    "canvas1 = tk.Canvas(root, width = 400, height = 300)\n",
    "canvas1.pack()"
   ]
  },
  {
   "cell_type": "code",
   "execution_count": null,
   "metadata": {},
   "outputs": [],
   "source": [
    "# Add Entry Box\n",
    "entry1 = tk.Entry (root) \n",
    "canvas1.create_window(200, 140, window=entry1)"
   ]
  },
  {
   "cell_type": "code",
   "execution_count": 23,
   "metadata": {},
   "outputs": [
    {
     "ename": "AttributeError",
     "evalue": "'NoneType' object has no attribute '_root'",
     "output_type": "error",
     "traceback": [
      "\u001b[1;31m---------------------------------------------------------------------------\u001b[0m",
      "\u001b[1;31mAttributeError\u001b[0m                            Traceback (most recent call last)",
      "\u001b[1;32m<ipython-input-23-42eab433e073>\u001b[0m in \u001b[0;36m<module>\u001b[1;34m\u001b[0m\n\u001b[0;32m      5\u001b[0m \u001b[1;31m# through a variable or textvariable option. The only kinds of variables for which this works are variables that are subclassed\u001b[0m\u001b[1;33m\u001b[0m\u001b[1;33m\u001b[0m\u001b[1;33m\u001b[0m\u001b[0m\n\u001b[0;32m      6\u001b[0m \u001b[1;31m# from a class called Variable, defined in the Tkinter module. They are declared like this:\u001b[0m\u001b[1;33m\u001b[0m\u001b[1;33m\u001b[0m\u001b[1;33m\u001b[0m\u001b[0m\n\u001b[1;32m----> 7\u001b[1;33m \u001b[0mx\u001b[0m \u001b[1;33m=\u001b[0m \u001b[0mStringVar\u001b[0m\u001b[1;33m(\u001b[0m\u001b[1;33m)\u001b[0m \u001b[1;31m# Holds a string; default value \"\"\u001b[0m\u001b[1;33m\u001b[0m\u001b[1;33m\u001b[0m\u001b[0m\n\u001b[0m\u001b[0;32m      8\u001b[0m \u001b[0mx\u001b[0m \u001b[1;33m=\u001b[0m \u001b[0mIntVar\u001b[0m\u001b[1;33m(\u001b[0m\u001b[1;33m)\u001b[0m \u001b[1;31m# Holds an integer; default value 0\u001b[0m\u001b[1;33m\u001b[0m\u001b[1;33m\u001b[0m\u001b[0m\n\u001b[0;32m      9\u001b[0m \u001b[0mx\u001b[0m \u001b[1;33m=\u001b[0m \u001b[0mDoubleVar\u001b[0m\u001b[1;33m(\u001b[0m\u001b[1;33m)\u001b[0m \u001b[1;31m# Holds a float; default value 0.0\u001b[0m\u001b[1;33m\u001b[0m\u001b[1;33m\u001b[0m\u001b[0m\n",
      "\u001b[1;32m~\\anaconda3\\lib\\tkinter\\__init__.py\u001b[0m in \u001b[0;36m__init__\u001b[1;34m(self, master, value, name)\u001b[0m\n\u001b[0;32m    478\u001b[0m         \u001b[0mthen\u001b[0m \u001b[0mthe\u001b[0m \u001b[0mexisting\u001b[0m \u001b[0mvalue\u001b[0m \u001b[1;32mis\u001b[0m \u001b[0mretained\u001b[0m\u001b[1;33m.\u001b[0m\u001b[1;33m\u001b[0m\u001b[1;33m\u001b[0m\u001b[0m\n\u001b[0;32m    479\u001b[0m         \"\"\"\n\u001b[1;32m--> 480\u001b[1;33m         \u001b[0mVariable\u001b[0m\u001b[1;33m.\u001b[0m\u001b[0m__init__\u001b[0m\u001b[1;33m(\u001b[0m\u001b[0mself\u001b[0m\u001b[1;33m,\u001b[0m \u001b[0mmaster\u001b[0m\u001b[1;33m,\u001b[0m \u001b[0mvalue\u001b[0m\u001b[1;33m,\u001b[0m \u001b[0mname\u001b[0m\u001b[1;33m)\u001b[0m\u001b[1;33m\u001b[0m\u001b[1;33m\u001b[0m\u001b[0m\n\u001b[0m\u001b[0;32m    481\u001b[0m \u001b[1;33m\u001b[0m\u001b[0m\n\u001b[0;32m    482\u001b[0m     \u001b[1;32mdef\u001b[0m \u001b[0mget\u001b[0m\u001b[1;33m(\u001b[0m\u001b[0mself\u001b[0m\u001b[1;33m)\u001b[0m\u001b[1;33m:\u001b[0m\u001b[1;33m\u001b[0m\u001b[1;33m\u001b[0m\u001b[0m\n",
      "\u001b[1;32m~\\anaconda3\\lib\\tkinter\\__init__.py\u001b[0m in \u001b[0;36m__init__\u001b[1;34m(self, master, value, name)\u001b[0m\n\u001b[0;32m    315\u001b[0m         \u001b[1;32mif\u001b[0m \u001b[1;32mnot\u001b[0m \u001b[0mmaster\u001b[0m\u001b[1;33m:\u001b[0m\u001b[1;33m\u001b[0m\u001b[1;33m\u001b[0m\u001b[0m\n\u001b[0;32m    316\u001b[0m             \u001b[0mmaster\u001b[0m \u001b[1;33m=\u001b[0m \u001b[0m_default_root\u001b[0m\u001b[1;33m\u001b[0m\u001b[1;33m\u001b[0m\u001b[0m\n\u001b[1;32m--> 317\u001b[1;33m         \u001b[0mself\u001b[0m\u001b[1;33m.\u001b[0m\u001b[0m_root\u001b[0m \u001b[1;33m=\u001b[0m \u001b[0mmaster\u001b[0m\u001b[1;33m.\u001b[0m\u001b[0m_root\u001b[0m\u001b[1;33m(\u001b[0m\u001b[1;33m)\u001b[0m\u001b[1;33m\u001b[0m\u001b[1;33m\u001b[0m\u001b[0m\n\u001b[0m\u001b[0;32m    318\u001b[0m         \u001b[0mself\u001b[0m\u001b[1;33m.\u001b[0m\u001b[0m_tk\u001b[0m \u001b[1;33m=\u001b[0m \u001b[0mmaster\u001b[0m\u001b[1;33m.\u001b[0m\u001b[0mtk\u001b[0m\u001b[1;33m\u001b[0m\u001b[1;33m\u001b[0m\u001b[0m\n\u001b[0;32m    319\u001b[0m         \u001b[1;32mif\u001b[0m \u001b[0mname\u001b[0m\u001b[1;33m:\u001b[0m\u001b[1;33m\u001b[0m\u001b[1;33m\u001b[0m\u001b[0m\n",
      "\u001b[1;31mAttributeError\u001b[0m: 'NoneType' object has no attribute '_root'"
     ]
    }
   ],
   "source": [
    "#Some widgets (like text entry widgets, radio buttons and so on) can be connected directly to application variables by using special \n",
    "# options: variable, textvariable, onvalue, offvalue, and value. This connection works both ways: if the variable changes for any \n",
    "# reason, the widget it's connected to will be updated to reflect the new value. These Tkinter control variables are used\n",
    "# like regular Python variables to keep certain values. It's not possible to hand over a regular Python variable to a widget\n",
    "# through a variable or textvariable option. The only kinds of variables for which this works are variables that are subclassed \n",
    "# from a class called Variable, defined in the Tkinter module. They are declared like this:\n",
    "x = StringVar() # Holds a string; default value \"\"\n",
    "x = IntVar() # Holds an integer; default value 0\n",
    "x = DoubleVar() # Holds a float; default value 0.0\n",
    "x = BooleanVar() # Holds a boolean, returns 0 for False and 1 for True\n",
    "# To read the current value of such a variable, call the method get(). The value of such a variable can be changed with the set() method."
   ]
  },
  {
   "cell_type": "markdown",
   "metadata": {},
   "source": [
    "# First Name, Last Name input box w/ buttons"
   ]
  },
  {
   "cell_type": "code",
   "execution_count": 8,
   "metadata": {},
   "outputs": [
    {
     "name": "stdout",
     "output_type": "stream",
     "text": [
      "First Name: Mindy\n",
      "Last Name: Bright\n"
     ]
    }
   ],
   "source": [
    "import tkinter as tk\n",
    "\n",
    "def show_entry_fields():\n",
    "    print(\"First Name: %s\\nLast Name: %s\" % (e1.get(), e2.get()))\n",
    "\n",
    "master = tk.Tk()\n",
    "tk.Label(master, \n",
    "         text=\"First Name\").grid(row=0)\n",
    "tk.Label(master, \n",
    "         text=\"Last Name\").grid(row=1)\n",
    "\n",
    "e1 = tk.Entry(master)\n",
    "e2 = tk.Entry(master)\n",
    "\n",
    "e1.grid(row=0, column=1)\n",
    "e2.grid(row=1, column=1)\n",
    "\n",
    "tk.Button(master, \n",
    "          text='Quit', \n",
    "          command=master.quit).grid(row=3, \n",
    "                                    column=0, \n",
    "                                    sticky=tk.W, \n",
    "                                    pady=4)\n",
    "tk.Button(master, \n",
    "          text='Show', command=show_entry_fields).grid(row=3, \n",
    "                                                       column=1, \n",
    "                                                       sticky=tk.W, \n",
    "                                                       pady=4)\n",
    "\n",
    "tk.mainloop()"
   ]
  },
  {
   "cell_type": "markdown",
   "metadata": {},
   "source": [
    "# Calculation Box "
   ]
  },
  {
   "cell_type": "code",
   "execution_count": 15,
   "metadata": {},
   "outputs": [
    {
     "name": "stdout",
     "output_type": "stream",
     "text": [
      "Annual Rate\n",
      "Number of Payments\n",
      "Loan Principle\n",
      "Monthly Payment\n",
      "Remaining Loan\n",
      "r 0.008333333333333333\n",
      "Remaining Loan: -139.640000\n",
      "r 0.008333333333333333\n",
      "Monthly Payment: 60.000000\n",
      "r 0.008333333333333333\n",
      "Monthly Payment: 60.000000\n"
     ]
    }
   ],
   "source": [
    "# Interest Calculation\n",
    "import tkinter as tk\n",
    "\n",
    "fields = ('Annual Rate', 'Number of Payments', 'Loan Principle', 'Monthly Payment', 'Remaining Loan')\n",
    "\n",
    "def monthly_payment(entries):\n",
    "    # period rate:\n",
    "    r = (float(entries['Annual Rate'].get()) / 100) / 12\n",
    "    print(\"r\", r)\n",
    "    # principal loan:\n",
    "    loan = float(entries['Loan Principle'].get())\n",
    "    n =  float(entries['Number of Payments'].get())\n",
    "    remaining_loan = float(entries['Remaining Loan'].get())\n",
    "    q = (1 + r)** n\n",
    "    monthly = r * ( (q * loan - remaining_loan) / ( q - 1 ))\n",
    "    monthly = (\"%8.2f\" % monthly).strip()\n",
    "    entries['Monthly Payment'].delete(0, tk.END)\n",
    "    entries['Monthly Payment'].insert(0, monthly )\n",
    "    print(\"Monthly Payment: %f\" % float(monthly))\n",
    "\n",
    "def final_balance(entries):\n",
    "    # period rate:\n",
    "    r = (float(entries['Annual Rate'].get()) / 100) / 12\n",
    "    print(\"r\", r)\n",
    "    # principal loan:\n",
    "    loan = float(entries['Loan Principle'].get())\n",
    "    n =  float(entries['Number of Payments'].get()) \n",
    "    monthly = float(entries['Monthly Payment'].get())\n",
    "    q = (1 + r) ** n\n",
    "    remaining = q * loan  - ( (q - 1) / r) * monthly\n",
    "    remaining = (\"%8.2f\" % remaining).strip()\n",
    "    entries['Remaining Loan'].delete(0, tk.END)\n",
    "    entries['Remaining Loan'].insert(0, remaining )\n",
    "    print(\"Remaining Loan: %f\" % float(remaining))\n",
    "\n",
    "def makeform(root, fields):\n",
    "    entries = {}\n",
    "    for field in fields:\n",
    "        print(field)\n",
    "        row = tk.Frame(root)\n",
    "        lab = tk.Label(row, width=22, text=field+\": \", anchor='w')\n",
    "        ent = tk.Entry(row)\n",
    "        ent.insert(0, \"0\")\n",
    "        row.pack(side=tk.TOP, \n",
    "                 fill=tk.X, \n",
    "                 padx=5, \n",
    "                 pady=5)\n",
    "        lab.pack(side=tk.LEFT)\n",
    "        ent.pack(side=tk.RIGHT, \n",
    "                 expand=tk.YES, \n",
    "                 fill=tk.X)\n",
    "        entries[field] = ent\n",
    "    return entries\n",
    "\n",
    "if __name__ == '__main__':\n",
    "    root = tk.Tk()\n",
    "    ents = makeform(root, fields)\n",
    "    b1 = tk.Button(root, text='Final Balance',\n",
    "           command=(lambda e=ents: final_balance(e)))\n",
    "    b1.pack(side=tk.LEFT, padx=5, pady=5)\n",
    "    b2 = tk.Button(root, text='Monthly Payment',\n",
    "           command=(lambda e=ents: monthly_payment(e)))\n",
    "    b2.pack(side=tk.LEFT, padx=5, pady=5)\n",
    "    b3 = tk.Button(root, text='Quit', command=root.quit)\n",
    "    b3.pack(side=tk.LEFT, padx=5, pady=5)\n",
    "    root.mainloop()"
   ]
  },
  {
   "cell_type": "code",
   "execution_count": null,
   "metadata": {},
   "outputs": [],
   "source": []
  }
 ],
 "metadata": {
  "kernelspec": {
   "display_name": "Python 3",
   "language": "python",
   "name": "python3"
  },
  "language_info": {
   "codemirror_mode": {
    "name": "ipython",
    "version": 3
   },
   "file_extension": ".py",
   "mimetype": "text/x-python",
   "name": "python",
   "nbconvert_exporter": "python",
   "pygments_lexer": "ipython3",
   "version": "3.7.6"
  }
 },
 "nbformat": 4,
 "nbformat_minor": 4
}
